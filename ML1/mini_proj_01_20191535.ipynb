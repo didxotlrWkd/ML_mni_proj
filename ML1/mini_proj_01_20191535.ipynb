{
 "cells": [
  {
   "cell_type": "code",
   "execution_count": 2,
   "metadata": {},
   "outputs": [],
   "source": [
    "import numpy as np\n",
    "import pandas as pd\n",
    "from sklearn.model_selection import GridSearchCV, cross_val_score, train_test_split\n",
    "from sklearn.preprocessing import StandardScaler\n",
    "from sklearn.svm import LinearSVC, SVC\n",
    "\n",
    "# 데이터 로드\n",
    "input_file = \"emnist-digits-train.csv\"\n",
    "df_train = pd.read_csv(input_file, header=None)\n",
    "data_train = df_train.to_numpy()\n",
    "\n",
    "# 특성과 레이블 분리    \n",
    "X_train = data_train[:, 1:]\n",
    "y_train = data_train[:, 0]\n",
    "\n",
    "\n",
    "X_train = X_train\n",
    "\n",
    "#scaler\n",
    "scaler = StandardScaler()\n",
    "scaler.fit(X_train)\n",
    "X_train = scaler.transform(X_train)\n",
    "\n"
   ]
  },
  {
   "cell_type": "code",
   "execution_count": null,
   "metadata": {},
   "outputs": [
    {
     "name": "stdout",
     "output_type": "stream",
     "text": [
      "Cross Validation Score is [0.98991667 0.98829167 0.98991667 0.99016667 0.98841667 0.99058333\n",
      " 0.989875   0.99008333 0.98975    0.98958333]\n",
      "Cross Validation Mean is 0.9896583333333334\n"
     ]
    }
   ],
   "source": [
    "from sklearn.ensemble import VotingClassifier\n",
    "from sklearn.svm import SVC\n",
    "from sklearn.ensemble import RandomForestClassifier\n",
    "forest_clf = RandomForestClassifier(n_estimators=1000, max_depth=30, random_state=42)\n",
    "poly_kernel_svm_clf = SVC(kernel=\"poly\", degree=3, coef0=1, C= 100, gamma='auto', max_iter=-1, probability= True)\n",
    "\n",
    "voting_clf = VotingClassifier(estimators=[('fc', forest_clf), ('svc', poly_kernel_svm_clf)], voting='soft')\n",
    "\n",
    "\n",
    "from sklearn.model_selection import cross_val_score\n",
    "\n",
    "cv_score = cross_val_score(voting_clf, X_train, y_train, cv=10, scoring=\"accuracy\", n_jobs=-1)\n",
    "print(cv_score)\n",
    "print(np.mean(cv_score))\n",
    "\n"
   ]
  },
  {
   "cell_type": "markdown",
   "metadata": {},
   "source": [
    "# 10-CV Result\n",
    "## Mean: 0.9896583333333334"
   ]
  },
  {
   "cell_type": "markdown",
   "metadata": {},
   "source": []
  }
 ],
 "metadata": {
  "kernelspec": {
   "display_name": "ML_study",
   "language": "python",
   "name": "python3"
  },
  "language_info": {
   "codemirror_mode": {
    "name": "ipython",
    "version": 3
   },
   "file_extension": ".py",
   "mimetype": "text/x-python",
   "name": "python",
   "nbconvert_exporter": "python",
   "pygments_lexer": "ipython3",
   "version": "3.12.0"
  }
 },
 "nbformat": 4,
 "nbformat_minor": 2
}
