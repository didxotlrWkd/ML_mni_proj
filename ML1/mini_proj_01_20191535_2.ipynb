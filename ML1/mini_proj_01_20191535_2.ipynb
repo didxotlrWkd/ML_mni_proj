{
 "cells": [
  {
   "cell_type": "code",
   "execution_count": 7,
   "metadata": {},
   "outputs": [],
   "source": [
    "import numpy as np\n",
    "import pandas as pd\n",
    "from sklearn.model_selection import GridSearchCV, cross_val_score, train_test_split\n",
    "from sklearn.preprocessing import StandardScaler, MinMaxScaler\n",
    "from sklearn.svm import LinearSVC, SVC\n",
    "\n",
    "# 데이터 로드\n",
    "input_file = \"emnist-digits-train.csv\"\n",
    "df_train = pd.read_csv(input_file, header=None)\n",
    "data_train = df_train.to_numpy()\n",
    "\n",
    "# 특성과 레이블 분리    \n",
    "X_train = data_train[:, 1:]\n",
    "y_train = data_train[:, 0]\n",
    "\n",
    "\n",
    "X_train = X_train\n",
    "\n",
    "#scaler\n",
    "scaler = StandardScaler()\n",
    "scaler.fit(X_train)\n",
    "X_train = scaler.transform(X_train)\n",
    "\n"
   ]
  },
  {
   "cell_type": "markdown",
   "metadata": {},
   "source": []
  },
  {
   "cell_type": "code",
   "execution_count": 8,
   "metadata": {},
   "outputs": [
    {
     "name": "stdout",
     "output_type": "stream",
     "text": [
      "Cross Validation Score is [0.98808333 0.98725    0.987875   0.98825    0.986625   0.989125\n",
      " 0.989125   0.98845833 0.98816667 0.98779167]\n",
      "Cross Validation Mean is 0.9880749999999999\n"
     ]
    }
   ],
   "source": [
    "from sklearn.ensemble import ExtraTreesClassifier\n",
    "from sklearn.ensemble import VotingClassifier\n",
    "from sklearn.svm import SVC\n",
    "from sklearn.model_selection import cross_val_score\n",
    "import numpy as np\n",
    "from sklearn.neighbors import KNeighborsClassifier\n",
    "\n",
    "\n",
    "# 모델 정의\n",
    "extra_trees_clf = ExtraTreesClassifier(n_estimators=200, max_depth=30, random_state=42)\n",
    "poly_kernel_svm_clf = SVC(kernel=\"poly\", degree=3, coef0=1, C=100, gamma='auto', max_iter=-1, probability=True)\n",
    "knn_clf = KNeighborsClassifier(n_neighbors=5, weights='distance', n_jobs=-1)\n",
    "# 앙상블 모델 생성\n",
    "voting_clf = VotingClassifier(estimators=[('etc', extra_trees_clf), ('svc', poly_kernel_svm_clf), ('knn', knn_clf)], voting='soft')\n",
    "\n",
    "# 교차 검증 수행\n",
    "cv_scores = cross_val_score(voting_clf, X_train, y_train, cv=10, scoring=\"accuracy\", n_jobs=-1)\n",
    "\n",
    "# 각 폴드의 정확도 출력\n",
    "print(f'Cross Validation Score is {cv_scores}')\n",
    "print(f'Cross Validation Mean is {np.mean(cv_scores)}')"
   ]
  },
  {
   "cell_type": "markdown",
   "metadata": {},
   "source": []
  }
 ],
 "metadata": {
  "kernelspec": {
   "display_name": "ML_study",
   "language": "python",
   "name": "python3"
  },
  "language_info": {
   "codemirror_mode": {
    "name": "ipython",
    "version": 3
   },
   "file_extension": ".py",
   "mimetype": "text/x-python",
   "name": "python",
   "nbconvert_exporter": "python",
   "pygments_lexer": "ipython3",
   "version": "3.12.0"
  }
 },
 "nbformat": 4,
 "nbformat_minor": 2
}
