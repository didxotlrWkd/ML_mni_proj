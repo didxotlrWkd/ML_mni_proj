{
 "cells": [
  {
   "cell_type": "code",
   "execution_count": 1,
   "metadata": {},
   "outputs": [
    {
     "name": "stdout",
     "output_type": "stream",
     "text": [
      "(21613, 21)\n"
     ]
    },
    {
     "data": {
      "text/html": [
       "<div>\n",
       "<style scoped>\n",
       "    .dataframe tbody tr th:only-of-type {\n",
       "        vertical-align: middle;\n",
       "    }\n",
       "\n",
       "    .dataframe tbody tr th {\n",
       "        vertical-align: top;\n",
       "    }\n",
       "\n",
       "    .dataframe thead th {\n",
       "        text-align: right;\n",
       "    }\n",
       "</style>\n",
       "<table border=\"1\" class=\"dataframe\">\n",
       "  <thead>\n",
       "    <tr style=\"text-align: right;\">\n",
       "      <th></th>\n",
       "      <th>id</th>\n",
       "      <th>date</th>\n",
       "      <th>price</th>\n",
       "      <th>bedrooms</th>\n",
       "      <th>bathrooms</th>\n",
       "      <th>sqft_living</th>\n",
       "      <th>sqft_lot</th>\n",
       "      <th>floors</th>\n",
       "      <th>waterfront</th>\n",
       "      <th>view</th>\n",
       "      <th>...</th>\n",
       "      <th>grade</th>\n",
       "      <th>sqft_above</th>\n",
       "      <th>sqft_basement</th>\n",
       "      <th>yr_built</th>\n",
       "      <th>yr_renovated</th>\n",
       "      <th>zipcode</th>\n",
       "      <th>lat</th>\n",
       "      <th>long</th>\n",
       "      <th>sqft_living15</th>\n",
       "      <th>sqft_lot15</th>\n",
       "    </tr>\n",
       "  </thead>\n",
       "  <tbody>\n",
       "    <tr>\n",
       "      <th>0</th>\n",
       "      <td>7129300520</td>\n",
       "      <td>20141013T000000</td>\n",
       "      <td>221900.0</td>\n",
       "      <td>3</td>\n",
       "      <td>1.00</td>\n",
       "      <td>1180</td>\n",
       "      <td>5650</td>\n",
       "      <td>1.0</td>\n",
       "      <td>0</td>\n",
       "      <td>0</td>\n",
       "      <td>...</td>\n",
       "      <td>7</td>\n",
       "      <td>1180</td>\n",
       "      <td>0</td>\n",
       "      <td>1955</td>\n",
       "      <td>0</td>\n",
       "      <td>98178</td>\n",
       "      <td>47.5112</td>\n",
       "      <td>-122.257</td>\n",
       "      <td>1340</td>\n",
       "      <td>5650</td>\n",
       "    </tr>\n",
       "    <tr>\n",
       "      <th>1</th>\n",
       "      <td>6414100192</td>\n",
       "      <td>20141209T000000</td>\n",
       "      <td>538000.0</td>\n",
       "      <td>3</td>\n",
       "      <td>2.25</td>\n",
       "      <td>2570</td>\n",
       "      <td>7242</td>\n",
       "      <td>2.0</td>\n",
       "      <td>0</td>\n",
       "      <td>0</td>\n",
       "      <td>...</td>\n",
       "      <td>7</td>\n",
       "      <td>2170</td>\n",
       "      <td>400</td>\n",
       "      <td>1951</td>\n",
       "      <td>1991</td>\n",
       "      <td>98125</td>\n",
       "      <td>47.7210</td>\n",
       "      <td>-122.319</td>\n",
       "      <td>1690</td>\n",
       "      <td>7639</td>\n",
       "    </tr>\n",
       "    <tr>\n",
       "      <th>2</th>\n",
       "      <td>5631500400</td>\n",
       "      <td>20150225T000000</td>\n",
       "      <td>180000.0</td>\n",
       "      <td>2</td>\n",
       "      <td>1.00</td>\n",
       "      <td>770</td>\n",
       "      <td>10000</td>\n",
       "      <td>1.0</td>\n",
       "      <td>0</td>\n",
       "      <td>0</td>\n",
       "      <td>...</td>\n",
       "      <td>6</td>\n",
       "      <td>770</td>\n",
       "      <td>0</td>\n",
       "      <td>1933</td>\n",
       "      <td>0</td>\n",
       "      <td>98028</td>\n",
       "      <td>47.7379</td>\n",
       "      <td>-122.233</td>\n",
       "      <td>2720</td>\n",
       "      <td>8062</td>\n",
       "    </tr>\n",
       "  </tbody>\n",
       "</table>\n",
       "<p>3 rows × 21 columns</p>\n",
       "</div>"
      ],
      "text/plain": [
       "           id             date     price  bedrooms  bathrooms  sqft_living  \\\n",
       "0  7129300520  20141013T000000  221900.0         3       1.00         1180   \n",
       "1  6414100192  20141209T000000  538000.0         3       2.25         2570   \n",
       "2  5631500400  20150225T000000  180000.0         2       1.00          770   \n",
       "\n",
       "   sqft_lot  floors  waterfront  view  ...  grade  sqft_above  sqft_basement  \\\n",
       "0      5650     1.0           0     0  ...      7        1180              0   \n",
       "1      7242     2.0           0     0  ...      7        2170            400   \n",
       "2     10000     1.0           0     0  ...      6         770              0   \n",
       "\n",
       "   yr_built  yr_renovated  zipcode      lat     long  sqft_living15  \\\n",
       "0      1955             0    98178  47.5112 -122.257           1340   \n",
       "1      1951          1991    98125  47.7210 -122.319           1690   \n",
       "2      1933             0    98028  47.7379 -122.233           2720   \n",
       "\n",
       "   sqft_lot15  \n",
       "0        5650  \n",
       "1        7639  \n",
       "2        8062  \n",
       "\n",
       "[3 rows x 21 columns]"
      ]
     },
     "execution_count": 1,
     "metadata": {},
     "output_type": "execute_result"
    }
   ],
   "source": [
    "import pandas as pd\n",
    "import numpy as np\n",
    "import matplotlib.pyplot as plt\n",
    "from sklearn.metrics import accuracy_score, confusion_matrix, classification_report\n",
    "from sklearn.model_selection import train_test_split\n",
    "from sklearn.preprocessing import StandardScaler\n",
    "from sklearn.model_selection import GridSearchCV\n",
    "from sklearn.model_selection import cross_val_score\n",
    "\n",
    "\n",
    "\n",
    "data = pd.read_csv('kc_house_data.csv')\n",
    "print(data.shape)\n",
    "data.head(3)\n"
   ]
  },
  {
   "cell_type": "code",
   "execution_count": 2,
   "metadata": {},
   "outputs": [],
   "source": [
    "data = data.drop([\"date\"], axis=1)"
   ]
  },
  {
   "cell_type": "code",
   "execution_count": 3,
   "metadata": {},
   "outputs": [],
   "source": [
    "from sklearn.utils import shuffle\n",
    "\n",
    "data = shuffle(data)"
   ]
  },
  {
   "cell_type": "code",
   "execution_count": 4,
   "metadata": {},
   "outputs": [
    {
     "data": {
      "text/html": [
       "<div>\n",
       "<style scoped>\n",
       "    .dataframe tbody tr th:only-of-type {\n",
       "        vertical-align: middle;\n",
       "    }\n",
       "\n",
       "    .dataframe tbody tr th {\n",
       "        vertical-align: top;\n",
       "    }\n",
       "\n",
       "    .dataframe thead th {\n",
       "        text-align: right;\n",
       "    }\n",
       "</style>\n",
       "<table border=\"1\" class=\"dataframe\">\n",
       "  <thead>\n",
       "    <tr style=\"text-align: right;\">\n",
       "      <th></th>\n",
       "      <th>id</th>\n",
       "      <th>price</th>\n",
       "      <th>bedrooms</th>\n",
       "      <th>bathrooms</th>\n",
       "      <th>sqft_living</th>\n",
       "      <th>sqft_lot</th>\n",
       "      <th>floors</th>\n",
       "      <th>waterfront</th>\n",
       "      <th>view</th>\n",
       "      <th>condition</th>\n",
       "      <th>grade</th>\n",
       "      <th>sqft_above</th>\n",
       "      <th>sqft_basement</th>\n",
       "      <th>yr_built</th>\n",
       "      <th>yr_renovated</th>\n",
       "      <th>zipcode</th>\n",
       "      <th>lat</th>\n",
       "      <th>long</th>\n",
       "      <th>sqft_living15</th>\n",
       "      <th>sqft_lot15</th>\n",
       "    </tr>\n",
       "  </thead>\n",
       "  <tbody>\n",
       "    <tr>\n",
       "      <th>4472</th>\n",
       "      <td>7504050090</td>\n",
       "      <td>720000.0</td>\n",
       "      <td>3</td>\n",
       "      <td>2.50</td>\n",
       "      <td>2820</td>\n",
       "      <td>14250</td>\n",
       "      <td>2.0</td>\n",
       "      <td>0</td>\n",
       "      <td>0</td>\n",
       "      <td>3</td>\n",
       "      <td>11</td>\n",
       "      <td>2820</td>\n",
       "      <td>0</td>\n",
       "      <td>1991</td>\n",
       "      <td>0</td>\n",
       "      <td>98074</td>\n",
       "      <td>47.6396</td>\n",
       "      <td>-122.054</td>\n",
       "      <td>2820</td>\n",
       "      <td>12600</td>\n",
       "    </tr>\n",
       "    <tr>\n",
       "      <th>15621</th>\n",
       "      <td>2019200480</td>\n",
       "      <td>220000.0</td>\n",
       "      <td>3</td>\n",
       "      <td>2.25</td>\n",
       "      <td>1470</td>\n",
       "      <td>7518</td>\n",
       "      <td>1.0</td>\n",
       "      <td>0</td>\n",
       "      <td>0</td>\n",
       "      <td>3</td>\n",
       "      <td>7</td>\n",
       "      <td>1160</td>\n",
       "      <td>310</td>\n",
       "      <td>1985</td>\n",
       "      <td>0</td>\n",
       "      <td>98003</td>\n",
       "      <td>47.2725</td>\n",
       "      <td>-122.300</td>\n",
       "      <td>1720</td>\n",
       "      <td>8300</td>\n",
       "    </tr>\n",
       "    <tr>\n",
       "      <th>14439</th>\n",
       "      <td>3904980360</td>\n",
       "      <td>495000.0</td>\n",
       "      <td>3</td>\n",
       "      <td>2.50</td>\n",
       "      <td>1800</td>\n",
       "      <td>7318</td>\n",
       "      <td>2.0</td>\n",
       "      <td>0</td>\n",
       "      <td>0</td>\n",
       "      <td>3</td>\n",
       "      <td>8</td>\n",
       "      <td>1800</td>\n",
       "      <td>0</td>\n",
       "      <td>1989</td>\n",
       "      <td>0</td>\n",
       "      <td>98029</td>\n",
       "      <td>47.5747</td>\n",
       "      <td>-122.008</td>\n",
       "      <td>1800</td>\n",
       "      <td>5414</td>\n",
       "    </tr>\n",
       "    <tr>\n",
       "      <th>12922</th>\n",
       "      <td>1938400410</td>\n",
       "      <td>275000.0</td>\n",
       "      <td>3</td>\n",
       "      <td>1.75</td>\n",
       "      <td>1650</td>\n",
       "      <td>7700</td>\n",
       "      <td>1.0</td>\n",
       "      <td>0</td>\n",
       "      <td>0</td>\n",
       "      <td>4</td>\n",
       "      <td>8</td>\n",
       "      <td>1650</td>\n",
       "      <td>0</td>\n",
       "      <td>1977</td>\n",
       "      <td>0</td>\n",
       "      <td>98023</td>\n",
       "      <td>47.3155</td>\n",
       "      <td>-122.365</td>\n",
       "      <td>2020</td>\n",
       "      <td>7700</td>\n",
       "    </tr>\n",
       "    <tr>\n",
       "      <th>2300</th>\n",
       "      <td>5152100160</td>\n",
       "      <td>357000.0</td>\n",
       "      <td>3</td>\n",
       "      <td>1.75</td>\n",
       "      <td>2400</td>\n",
       "      <td>14012</td>\n",
       "      <td>1.0</td>\n",
       "      <td>0</td>\n",
       "      <td>0</td>\n",
       "      <td>3</td>\n",
       "      <td>9</td>\n",
       "      <td>2400</td>\n",
       "      <td>0</td>\n",
       "      <td>1971</td>\n",
       "      <td>0</td>\n",
       "      <td>98003</td>\n",
       "      <td>47.3371</td>\n",
       "      <td>-122.325</td>\n",
       "      <td>2800</td>\n",
       "      <td>13988</td>\n",
       "    </tr>\n",
       "  </tbody>\n",
       "</table>\n",
       "</div>"
      ],
      "text/plain": [
       "               id     price  bedrooms  bathrooms  sqft_living  sqft_lot  \\\n",
       "4472   7504050090  720000.0         3       2.50         2820     14250   \n",
       "15621  2019200480  220000.0         3       2.25         1470      7518   \n",
       "14439  3904980360  495000.0         3       2.50         1800      7318   \n",
       "12922  1938400410  275000.0         3       1.75         1650      7700   \n",
       "2300   5152100160  357000.0         3       1.75         2400     14012   \n",
       "\n",
       "       floors  waterfront  view  condition  grade  sqft_above  sqft_basement  \\\n",
       "4472      2.0           0     0          3     11        2820              0   \n",
       "15621     1.0           0     0          3      7        1160            310   \n",
       "14439     2.0           0     0          3      8        1800              0   \n",
       "12922     1.0           0     0          4      8        1650              0   \n",
       "2300      1.0           0     0          3      9        2400              0   \n",
       "\n",
       "       yr_built  yr_renovated  zipcode      lat     long  sqft_living15  \\\n",
       "4472       1991             0    98074  47.6396 -122.054           2820   \n",
       "15621      1985             0    98003  47.2725 -122.300           1720   \n",
       "14439      1989             0    98029  47.5747 -122.008           1800   \n",
       "12922      1977             0    98023  47.3155 -122.365           2020   \n",
       "2300       1971             0    98003  47.3371 -122.325           2800   \n",
       "\n",
       "       sqft_lot15  \n",
       "4472        12600  \n",
       "15621        8300  \n",
       "14439        5414  \n",
       "12922        7700  \n",
       "2300        13988  "
      ]
     },
     "execution_count": 4,
     "metadata": {},
     "output_type": "execute_result"
    }
   ],
   "source": [
    "data = data.sample(frac=1, random_state=42)\n",
    "data.head()"
   ]
  },
  {
   "cell_type": "code",
   "execution_count": 5,
   "metadata": {},
   "outputs": [
    {
     "name": "stdout",
     "output_type": "stream",
     "text": [
      "<class 'pandas.core.frame.DataFrame'>\n",
      "Index: 21613 entries, 4472 to 3452\n",
      "Data columns (total 20 columns):\n",
      " #   Column         Non-Null Count  Dtype  \n",
      "---  ------         --------------  -----  \n",
      " 0   id             21613 non-null  int64  \n",
      " 1   price          21613 non-null  float64\n",
      " 2   bedrooms       21613 non-null  int64  \n",
      " 3   bathrooms      21613 non-null  float64\n",
      " 4   sqft_living    21613 non-null  int64  \n",
      " 5   sqft_lot       21613 non-null  int64  \n",
      " 6   floors         21613 non-null  float64\n",
      " 7   waterfront     21613 non-null  int64  \n",
      " 8   view           21613 non-null  int64  \n",
      " 9   condition      21613 non-null  int64  \n",
      " 10  grade          21613 non-null  int64  \n",
      " 11  sqft_above     21613 non-null  int64  \n",
      " 12  sqft_basement  21613 non-null  int64  \n",
      " 13  yr_built       21613 non-null  int64  \n",
      " 14  yr_renovated   21613 non-null  int64  \n",
      " 15  zipcode        21613 non-null  int64  \n",
      " 16  lat            21613 non-null  float64\n",
      " 17  long           21613 non-null  float64\n",
      " 18  sqft_living15  21613 non-null  int64  \n",
      " 19  sqft_lot15     21613 non-null  int64  \n",
      "dtypes: float64(5), int64(15)\n",
      "memory usage: 3.5 MB\n"
     ]
    }
   ],
   "source": [
    "data.info()\n"
   ]
  },
  {
   "cell_type": "code",
   "execution_count": 6,
   "metadata": {},
   "outputs": [
    {
     "data": {
      "text/plain": [
       "price            1.000000\n",
       "sqft_living      0.702035\n",
       "grade            0.667434\n",
       "sqft_above       0.605567\n",
       "sqft_living15    0.585379\n",
       "bathrooms        0.525138\n",
       "view             0.397293\n",
       "sqft_basement    0.323816\n",
       "bedrooms         0.308350\n",
       "lat              0.307003\n",
       "waterfront       0.266369\n",
       "floors           0.256794\n",
       "yr_renovated     0.126434\n",
       "sqft_lot         0.089661\n",
       "sqft_lot15       0.082447\n",
       "yr_built         0.054012\n",
       "condition        0.036362\n",
       "long             0.021626\n",
       "id              -0.016762\n",
       "zipcode         -0.053203\n",
       "Name: price, dtype: float64"
      ]
     },
     "execution_count": 6,
     "metadata": {},
     "output_type": "execute_result"
    }
   ],
   "source": [
    "#상관관계 따지기\n",
    "data.corr()['price'].sort_values(ascending=False)"
   ]
  },
  {
   "cell_type": "markdown",
   "metadata": {},
   "source": [
    "## 특성추가"
   ]
  },
  {
   "cell_type": "code",
   "execution_count": 7,
   "metadata": {},
   "outputs": [],
   "source": [
    "new_data = data.copy()"
   ]
  },
  {
   "cell_type": "code",
   "execution_count": 8,
   "metadata": {},
   "outputs": [],
   "source": [
    "# 관계가 높은 특성을 이용하여 새로운 특성 만들기\n",
    "new_data['sqft_living*grade'] = new_data['sqft_living'] * new_data['grade']\n",
    "new_data['sqft_living*sqft_above'] = new_data['sqft_living'] * new_data['sqft_above']\n",
    "new_data['sqft_living*sqft_living15'] = new_data['sqft_living'] * new_data['sqft_living15']\n",
    "new_data['sqft_living*sqft_bathrooms'] = new_data['sqft_living'] * new_data['bathrooms']\n",
    "new_data['sqft_living*sqft_view'] = new_data['sqft_living'] * new_data['view']\n",
    "\n",
    "new_data['sqft_living_sum_grade'] = new_data['sqft_living'] + new_data['grade']\n",
    "new_data['sqft_living_sum_sqft_above'] = new_data['sqft_living'] + new_data['sqft_above']\n",
    "new_data['sqft_living_sum_sqft_living15'] = new_data['sqft_living'] + new_data['sqft_living15']\n",
    "new_data['sqft_living_sum_sqft_bathrooms'] = new_data['sqft_living'] + new_data['bathrooms']\n",
    "new_data['sqft_living_sum_sqft_view'] = new_data['sqft_living'] + new_data['view']\n",
    "\n",
    "new_data['sqft_living - grade'] = new_data['sqft_living'] - new_data['grade']\n",
    "new_data['sqft_living - sqft_above'] = new_data['sqft_living'] - new_data['sqft_above']\n",
    "new_data['sqft_living - sqft_living15'] = new_data['sqft_living'] - new_data['sqft_living15']\n",
    "new_data['sqft_living - bathrooms'] = new_data['sqft_living'] - new_data['bathrooms']\n",
    "new_data['sqft_living - view'] = new_data['sqft_living'] - new_data['view']\n",
    "\n",
    "\n",
    "new_data['sqft_living_sum_grade / 2'] = (new_data['sqft_living'] + new_data['grade'])/2\n",
    "new_data['sqft_living_sum_sqft_above / 2'] = (new_data['sqft_living'] + new_data['sqft_above'])/2\n",
    "new_data['sqft_living_sum_sqft_living15 / 2'] = (new_data['sqft_living'] + new_data['sqft_living15'])/2\n",
    "new_data['sqft_living_sum_sqft_bathrooms / 2'] = (new_data['sqft_living'] + new_data['bathrooms'])/2\n",
    "new_data['sqft_living_sum_sqft_view / 2'] = (new_data['sqft_living'] + new_data['view'])/2\n"
   ]
  },
  {
   "cell_type": "code",
   "execution_count": 9,
   "metadata": {},
   "outputs": [
    {
     "data": {
      "text/plain": [
       "price                                 1.000000\n",
       "sqft_living*grade                     0.756279\n",
       "sqft_living*sqft_living15             0.713117\n",
       "sqft_living*sqft_bathrooms            0.707134\n",
       "sqft_living_sum_grade / 2             0.702204\n",
       "sqft_living_sum_grade                 0.702204\n",
       "sqft_living_sum_sqft_view             0.702200\n",
       "sqft_living_sum_sqft_view / 2         0.702200\n",
       "sqft_living - bathrooms               0.702039\n",
       "sqft_living                           0.702035\n",
       "sqft_living_sum_sqft_bathrooms        0.702031\n",
       "sqft_living_sum_sqft_bathrooms / 2    0.702031\n",
       "sqft_living - view                    0.701870\n",
       "sqft_living - grade                   0.701866\n",
       "sqft_living*sqft_above                0.698087\n",
       "sqft_living_sum_sqft_living15         0.694920\n",
       "sqft_living_sum_sqft_living15 / 2     0.694920\n",
       "sqft_living_sum_sqft_above            0.677472\n",
       "sqft_living_sum_sqft_above / 2        0.677472\n",
       "grade                                 0.667434\n",
       "sqft_above                            0.605567\n",
       "sqft_living15                         0.585379\n",
       "bathrooms                             0.525138\n",
       "sqft_living*sqft_view                 0.515564\n",
       "sqft_living - sqft_living15           0.405392\n",
       "view                                  0.397293\n",
       "sqft_living - sqft_above              0.323816\n",
       "sqft_basement                         0.323816\n",
       "bedrooms                              0.308350\n",
       "lat                                   0.307003\n",
       "waterfront                            0.266369\n",
       "floors                                0.256794\n",
       "yr_renovated                          0.126434\n",
       "sqft_lot                              0.089661\n",
       "sqft_lot15                            0.082447\n",
       "yr_built                              0.054012\n",
       "condition                             0.036362\n",
       "long                                  0.021626\n",
       "id                                   -0.016762\n",
       "zipcode                              -0.053203\n",
       "Name: price, dtype: float64"
      ]
     },
     "execution_count": 9,
     "metadata": {},
     "output_type": "execute_result"
    }
   ],
   "source": [
    "new_data.corr()['price'].sort_values(ascending=False)"
   ]
  },
  {
   "cell_type": "markdown",
   "metadata": {},
   "source": [
    "## 이상치 대체 하기"
   ]
  },
  {
   "cell_type": "code",
   "execution_count": 10,
   "metadata": {},
   "outputs": [
    {
     "data": {
      "text/plain": [
       "Index(['id', 'price', 'bedrooms', 'bathrooms', 'sqft_living', 'sqft_lot',\n",
       "       'floors', 'waterfront', 'view', 'condition', 'grade', 'sqft_above',\n",
       "       'sqft_basement', 'yr_built', 'yr_renovated', 'zipcode', 'lat', 'long',\n",
       "       'sqft_living15', 'sqft_lot15', 'sqft_living*grade',\n",
       "       'sqft_living*sqft_above', 'sqft_living*sqft_living15',\n",
       "       'sqft_living*sqft_bathrooms', 'sqft_living*sqft_view',\n",
       "       'sqft_living_sum_grade', 'sqft_living_sum_sqft_above',\n",
       "       'sqft_living_sum_sqft_living15', 'sqft_living_sum_sqft_bathrooms',\n",
       "       'sqft_living_sum_sqft_view', 'sqft_living - grade',\n",
       "       'sqft_living - sqft_above', 'sqft_living - sqft_living15',\n",
       "       'sqft_living - bathrooms', 'sqft_living - view',\n",
       "       'sqft_living_sum_grade / 2', 'sqft_living_sum_sqft_above / 2',\n",
       "       'sqft_living_sum_sqft_living15 / 2',\n",
       "       'sqft_living_sum_sqft_bathrooms / 2', 'sqft_living_sum_sqft_view / 2'],\n",
       "      dtype='object')"
      ]
     },
     "execution_count": 10,
     "metadata": {},
     "output_type": "execute_result"
    }
   ],
   "source": [
    "new_data.columns\n"
   ]
  },
  {
   "cell_type": "code",
   "execution_count": 11,
   "metadata": {},
   "outputs": [],
   "source": [
    "# import numpy as np\n",
    "\n",
    "# def replace_outliers_with_mean(df):\n",
    "#     '''replaces outliers with the mean value for specific columns'''\n",
    "#     variables = list(new_data.columns.values)\n",
    "#     for variable in variables:\n",
    "#         mean_value = new_data[variable].mean()\n",
    "#         std_value = new_data[variable].std()\n",
    "#         outliers = (new_data[variable] - mean_value).abs() > 3 * std_value\n",
    "#         new_data.loc[outliers, variable] = mean_value\n",
    "        \n",
    "#     return new_data\n",
    "\n",
    "# 이상치 대신 중앙값으로 처리하는 함수\n",
    "def replace_outliers_with_median(df):\n",
    "    variables = list(df.columns.values)\n",
    "    for variable in variables:\n",
    "        median_value = df[variable].median()\n",
    "        std_value = df[variable].std()\n",
    "        outliers = (df[variable] - median_value).abs() > 3 * std_value\n",
    "        df.loc[outliers, variable] = median_value\n",
    "    return df"
   ]
  },
  {
   "cell_type": "code",
   "execution_count": 12,
   "metadata": {},
   "outputs": [],
   "source": [
    "new_data = replace_outliers_with_median(new_data)"
   ]
  },
  {
   "cell_type": "markdown",
   "metadata": {},
   "source": [
    "# 데이터 분할"
   ]
  },
  {
   "cell_type": "code",
   "execution_count": 13,
   "metadata": {},
   "outputs": [],
   "source": [
    "housing_prepared = new_data.drop([\"price\"], axis=1)\n",
    "housing_labels = new_data[\"price\"].copy()"
   ]
  },
  {
   "cell_type": "code",
   "execution_count": 14,
   "metadata": {},
   "outputs": [],
   "source": [
    "def display_scores(scores):\n",
    "    print('Scores:', scores)\n",
    "    print('Mean:', scores.mean())\n",
    "    print('Standard deviation:', scores.std())"
   ]
  },
  {
   "cell_type": "code",
   "execution_count": 15,
   "metadata": {},
   "outputs": [],
   "source": [
    "from sklearn.ensemble import GradientBoostingRegressor\n",
    "from sklearn.model_selection import cross_val_score\n",
    "from sklearn.metrics import accuracy_score\n",
    "\n",
    "gdb_reg = GradientBoostingRegressor(n_estimators=3000, learning_rate=0.05, max_depth=5, max_features='sqrt', \n",
    "                                   min_samples_leaf=15, min_samples_split=10, loss='huber')\n",
    "lgbm_scores = cross_val_score(gdb_reg, housing_prepared, housing_labels, scoring=\"neg_mean_squared_error\", cv = 10)\n",
    "lgbm_rmse_scores = np.sqrt(-lgbm_scores)"
   ]
  },
  {
   "cell_type": "code",
   "execution_count": 16,
   "metadata": {},
   "outputs": [
    {
     "name": "stdout",
     "output_type": "stream",
     "text": [
      "Scores: [123877.32156657 115703.77290665 127884.52663363 120345.1959468\n",
      " 122572.18454891 109910.33454166 122063.04068957 120068.22783432\n",
      " 122254.54253385 118642.14520941]\n",
      "Mean: 120332.12924113785\n",
      "Standard deviation: 4629.017367936317\n"
     ]
    }
   ],
   "source": [
    "display_scores(lgbm_rmse_scores)"
   ]
  },
  {
   "cell_type": "markdown",
   "metadata": {},
   "source": [
    "### 10-CV Result\n",
    "# Scroe : 118928.98019385539"
   ]
  },
  {
   "cell_type": "code",
   "execution_count": 17,
   "metadata": {},
   "outputs": [
    {
     "data": {
      "text/plain": [
       "(21613, 39)"
      ]
     },
     "execution_count": 17,
     "metadata": {},
     "output_type": "execute_result"
    }
   ],
   "source": [
    "housing_prepared.shape"
   ]
  },
  {
   "cell_type": "code",
   "execution_count": null,
   "metadata": {},
   "outputs": [],
   "source": []
  }
 ],
 "metadata": {
  "kernelspec": {
   "display_name": "Python 3",
   "language": "python",
   "name": "python3"
  },
  "language_info": {
   "codemirror_mode": {
    "name": "ipython",
    "version": 3
   },
   "file_extension": ".py",
   "mimetype": "text/x-python",
   "name": "python",
   "nbconvert_exporter": "python",
   "pygments_lexer": "ipython3",
   "version": "3.11.7"
  }
 },
 "nbformat": 4,
 "nbformat_minor": 2
}
