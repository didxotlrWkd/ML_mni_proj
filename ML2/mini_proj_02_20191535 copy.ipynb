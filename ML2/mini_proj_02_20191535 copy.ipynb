{
  "cells": [
    {
      "cell_type": "code",
      "execution_count": 12,
      "metadata": {
        "colab": {
          "base_uri": "https://localhost:8080/"
        },
        "id": "PQa4lf3sxy9c",
        "outputId": "342ade65-75be-4867-86e9-95a9b388f079"
      },
      "outputs": [
        {
          "name": "stderr",
          "output_type": "stream",
          "text": [
            "C:\\Users\\xmflr\\AppData\\Local\\Temp\\ipykernel_6576\\2456368213.py:5: DtypeWarning: Columns (0,1,2,3,4,5,6,7,8,9,10,11,12,13,14,15,16,17,18,19,20,21,22,23,24,25,26,27,28,29,30,31,32,33,34,35,36,37,38,39,40,41,42,43,44,45,46,47,48,49,50,51,52,53,54,55,56,57,58,59,60,61,62,63,64,65,66,67,68,69,70,71,72,73,74,75,76,77,78,79,80,81,82,83,84,85,86,87,88,89,90,91,92,93,94,95,96,97,98,99,100,101,102,103,104,105,106,107,108,109,110,111,112,113,114,115,116,117,118,119,120,121,122,123,124,125,126,127,128,129,130,131,132,133,134,135,136,137,138,139,140,141,142,143,144,145,146,147,148,149,150,151,152,153,154,155,156,157,158,159,160,161,162,163,164,165,166,167,168,169,170,171,172,173,174,175,176,177,178,179,180,181,182,183,184,185,186,187,188,189,190,191,192,193,194,195,196,197,198,199,200,201,202,203,204,205,206,207,208,209,210,211,212,213,214,215,216,217,218,219,220,221,222,223,224,225,226,227,228,229,230,231,232,233,234,235,236,237,238,239,240,241,242,243,244,245,246,247,248,249,250,251,252,253,254,255,256,257,258,259,260,261,262,263,264,265,266,267,268,269,270,271,272,273,274,275,276,277,278,279,280,281,282,283,284,285,286,287,288,289,290,291,292,293,294,295,296,297,298,299,300,301,302,303,304,305,306,307,308,309,310,311,312,313,314,315,316,317,318,319,320,321,322,323,324,325,326,327,328,329,330,331,332,333,334,335,336,337,338,339,340,341,342,343,344,345,346,347,348,349,350,351,352,353,354,355,356,357,358,359,360,361,362,363,364,365,366,367,368,369,370,371,372,373,374,375,376,377,378,379,380,381,382,383,384,385,386,387,388,389,390,391,392,393,394,395,396,397,398,399,400,401,402,403,404,405,406,407,408,409,410,411,412,413,414,415,416,417,418,419,420,421,422,423,424,425,426,427,428,429,430,431,432,433,434,435,436,437,438,439,440,441,442,443,444,445,446,447,448,449,450,451,452,453,454,455,456,457,458,459,460,461,462,463,464,465,466,467,468,469,470,471,472,473,474,475,476,477,478,479,480,481,482,483,484,485,486,487,488,489,490,491,492,493,494,495,496,497,498,499,500,501,502,503,504,505,506,507,508,509,510,511,512,513,514,515,516,517,518,519,520,521,522,523,524,525,526,527,528,529,530,531,532,533,534,535,536,537,538,539,540,541,542,543,544,545,546,547,548,549,550,551,552,553,554,555,556,557,558,559,560,561) have mixed types. Specify dtype option on import or set low_memory=False.\n",
            "  df_train = pd.read_csv(input_file, header=None)\n"
          ]
        }
      ],
      "source": [
        "import numpy as np\n",
        "import pandas as pd\n",
        "\n",
        "input_file = \"train.csv\"\n",
        "df_train = pd.read_csv(input_file, header=None)"
      ]
    },
    {
      "cell_type": "code",
      "execution_count": 13,
      "metadata": {},
      "outputs": [
        {
          "data": {
            "text/plain": [
              "(7353, 563)"
            ]
          },
          "execution_count": 13,
          "metadata": {},
          "output_type": "execute_result"
        }
      ],
      "source": [
        "df_train.shape"
      ]
    },
    {
      "cell_type": "markdown",
      "metadata": {},
      "source": [
        "## 데이터 셔플"
      ]
    },
    {
      "cell_type": "code",
      "execution_count": 14,
      "metadata": {
        "colab": {
          "base_uri": "https://localhost:8080/"
        },
        "id": "evwxWh6e1b89",
        "outputId": "32f986c7-c7bf-48a2-bf93-1bfaea38250f"
      },
      "outputs": [
        {
          "name": "stdout",
          "output_type": "stream",
          "text": [
            "Training set shape: (7352, 560) (7352,)\n"
          ]
        }
      ],
      "source": [
        "import pandas as pd\n",
        "from sklearn.utils import shuffle\n",
        "\n",
        "# Assuming your data is stored in a DataFrame called df\n",
        "# (replace df with the actual variable name of your DataFrame)\n",
        "\n",
        "df_train = df_train[1:]\n",
        "\n",
        "\n",
        "# Shuffle the DataFrame\n",
        "df = shuffle(df_train)\n",
        "\n",
        "# Separate the features (X) and labels (y)\n",
        "X_train = df.iloc[:, 1:-2]  # Exclude the last two columns (subject and Activity) as they are labels\n",
        "y_train = df.iloc[:, -1]   # The last column (Activity) is the label\n",
        "\n",
        "# Optionally, you can also include the 'subject' column as a feature if needed\n",
        "# X_train = df.iloc[:, :-2]  # Exclude the last column (Activity) as it is a label\n",
        "\n",
        "# Print the shape of the training set\n",
        "print(\"Training set shape:\", X_train.shape, y_train.shape)\n"
      ]
    },
    {
      "cell_type": "code",
      "execution_count": 15,
      "metadata": {
        "colab": {
          "base_uri": "https://localhost:8080/",
          "height": 224
        },
        "id": "hBhNS1Mc34Xw",
        "outputId": "86d75c79-3be3-4222-865a-1a19098e5230"
      },
      "outputs": [
        {
          "data": {
            "text/html": [
              "<div>\n",
              "<style scoped>\n",
              "    .dataframe tbody tr th:only-of-type {\n",
              "        vertical-align: middle;\n",
              "    }\n",
              "\n",
              "    .dataframe tbody tr th {\n",
              "        vertical-align: top;\n",
              "    }\n",
              "\n",
              "    .dataframe thead th {\n",
              "        text-align: right;\n",
              "    }\n",
              "</style>\n",
              "<table border=\"1\" class=\"dataframe\">\n",
              "  <thead>\n",
              "    <tr style=\"text-align: right;\">\n",
              "      <th></th>\n",
              "      <th>1</th>\n",
              "      <th>2</th>\n",
              "      <th>3</th>\n",
              "      <th>4</th>\n",
              "      <th>5</th>\n",
              "      <th>6</th>\n",
              "      <th>7</th>\n",
              "      <th>8</th>\n",
              "      <th>9</th>\n",
              "      <th>10</th>\n",
              "      <th>...</th>\n",
              "      <th>551</th>\n",
              "      <th>552</th>\n",
              "      <th>553</th>\n",
              "      <th>554</th>\n",
              "      <th>555</th>\n",
              "      <th>556</th>\n",
              "      <th>557</th>\n",
              "      <th>558</th>\n",
              "      <th>559</th>\n",
              "      <th>560</th>\n",
              "    </tr>\n",
              "  </thead>\n",
              "  <tbody>\n",
              "    <tr>\n",
              "      <th>count</th>\n",
              "      <td>7352.000000</td>\n",
              "      <td>7352.00000</td>\n",
              "      <td>7352.000000</td>\n",
              "      <td>7352.000000</td>\n",
              "      <td>7352.000000</td>\n",
              "      <td>7352.00000</td>\n",
              "      <td>7352.000000</td>\n",
              "      <td>7352</td>\n",
              "      <td>7352.000000</td>\n",
              "      <td>7352.000000</td>\n",
              "      <td>...</td>\n",
              "      <td>7352.000000</td>\n",
              "      <td>7352.00000</td>\n",
              "      <td>7352.000000</td>\n",
              "      <td>7352.000000</td>\n",
              "      <td>7352.000000</td>\n",
              "      <td>7352.000000</td>\n",
              "      <td>7352.000000</td>\n",
              "      <td>7352.000000</td>\n",
              "      <td>7352.000000</td>\n",
              "      <td>7352.000000</td>\n",
              "    </tr>\n",
              "    <tr>\n",
              "      <th>unique</th>\n",
              "      <td>7352.000000</td>\n",
              "      <td>7349.00000</td>\n",
              "      <td>7349.000000</td>\n",
              "      <td>7351.000000</td>\n",
              "      <td>7350.000000</td>\n",
              "      <td>7348.00000</td>\n",
              "      <td>7352.000000</td>\n",
              "      <td>7351</td>\n",
              "      <td>5220.000000</td>\n",
              "      <td>5205.000000</td>\n",
              "      <td>...</td>\n",
              "      <td>7352.000000</td>\n",
              "      <td>7351.00000</td>\n",
              "      <td>7352.000000</td>\n",
              "      <td>7352.000000</td>\n",
              "      <td>7352.000000</td>\n",
              "      <td>7352.000000</td>\n",
              "      <td>7352.000000</td>\n",
              "      <td>7352.000000</td>\n",
              "      <td>7352.000000</td>\n",
              "      <td>7352.000000</td>\n",
              "    </tr>\n",
              "    <tr>\n",
              "      <th>top</th>\n",
              "      <td>-0.019454</td>\n",
              "      <td>-0.10806</td>\n",
              "      <td>-0.990648</td>\n",
              "      <td>-0.990443</td>\n",
              "      <td>-0.987961</td>\n",
              "      <td>-0.99777</td>\n",
              "      <td>-0.990498</td>\n",
              "      <td>-0.98635085</td>\n",
              "      <td>-0.936281</td>\n",
              "      <td>-0.551191</td>\n",
              "      <td>...</td>\n",
              "      <td>0.490387</td>\n",
              "      <td>-0.64499</td>\n",
              "      <td>-0.872434</td>\n",
              "      <td>0.075711</td>\n",
              "      <td>0.023265</td>\n",
              "      <td>-0.338918</td>\n",
              "      <td>0.466614</td>\n",
              "      <td>0.443592</td>\n",
              "      <td>-0.618193</td>\n",
              "      <td>-0.366661</td>\n",
              "    </tr>\n",
              "    <tr>\n",
              "      <th>freq</th>\n",
              "      <td>1.000000</td>\n",
              "      <td>2.00000</td>\n",
              "      <td>2.000000</td>\n",
              "      <td>2.000000</td>\n",
              "      <td>2.000000</td>\n",
              "      <td>2.00000</td>\n",
              "      <td>1.000000</td>\n",
              "      <td>2</td>\n",
              "      <td>4.000000</td>\n",
              "      <td>4.000000</td>\n",
              "      <td>...</td>\n",
              "      <td>1.000000</td>\n",
              "      <td>2.00000</td>\n",
              "      <td>1.000000</td>\n",
              "      <td>1.000000</td>\n",
              "      <td>1.000000</td>\n",
              "      <td>1.000000</td>\n",
              "      <td>1.000000</td>\n",
              "      <td>1.000000</td>\n",
              "      <td>1.000000</td>\n",
              "      <td>1.000000</td>\n",
              "    </tr>\n",
              "  </tbody>\n",
              "</table>\n",
              "<p>4 rows × 560 columns</p>\n",
              "</div>"
            ],
            "text/plain": [
              "                1           2            3            4            5    \\\n",
              "count   7352.000000  7352.00000  7352.000000  7352.000000  7352.000000   \n",
              "unique  7352.000000  7349.00000  7349.000000  7351.000000  7350.000000   \n",
              "top       -0.019454    -0.10806    -0.990648    -0.990443    -0.987961   \n",
              "freq       1.000000     2.00000     2.000000     2.000000     2.000000   \n",
              "\n",
              "               6            7            8            9            10   ...  \\\n",
              "count   7352.00000  7352.000000         7352  7352.000000  7352.000000  ...   \n",
              "unique  7348.00000  7352.000000         7351  5220.000000  5205.000000  ...   \n",
              "top       -0.99777    -0.990498  -0.98635085    -0.936281    -0.551191  ...   \n",
              "freq       2.00000     1.000000            2     4.000000     4.000000  ...   \n",
              "\n",
              "                551         552          553          554          555  \\\n",
              "count   7352.000000  7352.00000  7352.000000  7352.000000  7352.000000   \n",
              "unique  7352.000000  7351.00000  7352.000000  7352.000000  7352.000000   \n",
              "top        0.490387    -0.64499    -0.872434     0.075711     0.023265   \n",
              "freq       1.000000     2.00000     1.000000     1.000000     1.000000   \n",
              "\n",
              "                556          557          558          559          560  \n",
              "count   7352.000000  7352.000000  7352.000000  7352.000000  7352.000000  \n",
              "unique  7352.000000  7352.000000  7352.000000  7352.000000  7352.000000  \n",
              "top       -0.338918     0.466614     0.443592    -0.618193    -0.366661  \n",
              "freq       1.000000     1.000000     1.000000     1.000000     1.000000  \n",
              "\n",
              "[4 rows x 560 columns]"
            ]
          },
          "execution_count": 15,
          "metadata": {},
          "output_type": "execute_result"
        }
      ],
      "source": [
        "X_train.describe()"
      ]
    },
    {
      "cell_type": "code",
      "execution_count": 16,
      "metadata": {
        "id": "7cgFrJnb4sWI"
      },
      "outputs": [],
      "source": [
        "try :\n",
        "  from sklearn.preprocessing import OneHotEncoder\n",
        "  from sklearn.preprocessing import OrdinalEncoder\n",
        "except ImportError:\n",
        "  from future_encoders import OneHotEncoder \n",
        "  from future_encoders import OrdinalEncoder"
      ]
    },
    {
      "cell_type": "code",
      "execution_count": 17,
      "metadata": {
        "id": "jY2dn4i57b7v"
      },
      "outputs": [],
      "source": [
        "ordinal_encoder = OrdinalEncoder()\n",
        "y_train_2d = y_train.values.reshape(-1, 1)\n",
        "y_train_One = ordinal_encoder.fit_transform(y_train_2d)\n",
        "y_train_One = y_train_One.ravel()"
      ]
    },
    {
      "cell_type": "code",
      "execution_count": 18,
      "metadata": {
        "colab": {
          "base_uri": "https://localhost:8080/"
        },
        "id": "ibAT9t7qOUeI",
        "outputId": "fea955c2-ef95-4380-ed28-2ce5f0a8e3cc"
      },
      "outputs": [
        {
          "name": "stderr",
          "output_type": "stream",
          "text": [
            "C:\\Users\\xmflr\\AppData\\Local\\Packages\\PythonSoftwareFoundation.Python.3.11_qbz5n2kfra8p0\\LocalCache\\local-packages\\Python311\\site-packages\\sklearn\\preprocessing\\_encoders.py:975: FutureWarning: `sparse` was renamed to `sparse_output` in version 1.2 and will be removed in 1.4. `sparse_output` is ignored unless you leave `sparse` to its default value.\n",
            "  warnings.warn(\n"
          ]
        }
      ],
      "source": [
        "cat_encoder = OneHotEncoder(sparse=False)\n",
        "y_train_2d = y_train.values.reshape(-1, 1)\n",
        "y_train_1hot = cat_encoder.fit_transform(y_train_2d)"
      ]
    },
    {
      "cell_type": "code",
      "execution_count": 19,
      "metadata": {
        "colab": {
          "base_uri": "https://localhost:8080/",
          "height": 145
        },
        "id": "YTpDfQDo7kdT",
        "outputId": "b3fe50c1-d78a-4447-fa94-2956cf1fac23"
      },
      "outputs": [],
      "source": [
        "\n",
        "from sklearn.ensemble import VotingClassifier\n",
        "from sklearn.svm import SVC\n",
        "from sklearn.ensemble import RandomForestClassifier\n",
        "from sklearn.neighbors import KNeighborsClassifier\n",
        "from sklearn.pipeline import Pipeline\n",
        "from sklearn.preprocessing import StandardScaler\n",
        "\n",
        "rf_clf = RandomForestClassifier(n_estimators=100, random_state=42)\n",
        "knn_clf = KNeighborsClassifier(n_neighbors=2, weights='distance', metric='manhattan')\n",
        "svm_clf = Pipeline([\n",
        "    (\"scaler\", StandardScaler()),\n",
        "    (\"svm_clf\", SVC(C=1, kernel='linear', probability=True, random_state=42))  # probability=True로 설정\n",
        "])\n",
        "\n",
        "voting_clf = VotingClassifier(\n",
        "    estimators=[('rf', rf_clf), ('knn', knn_clf), ('svm', svm_clf)],\n",
        "    voting='soft'  # 'soft'로 설정하여 각 모델의 예측 확률을 사용\n",
        ")\n"
      ]
    },
    {
      "cell_type": "code",
      "execution_count": 20,
      "metadata": {},
      "outputs": [],
      "source": [
        "from sklearn.model_selection import cross_val_score"
      ]
    },
    {
      "cell_type": "code",
      "execution_count": 21,
      "metadata": {
        "colab": {
          "base_uri": "https://localhost:8080/"
        },
        "id": "0_NvGtQ4IEKt",
        "outputId": "f3c96079-05ba-48f6-9e0f-358a0a54ec81"
      },
      "outputs": [
        {
          "name": "stdout",
          "output_type": "stream",
          "text": [
            "[0.99184783 0.99184783 0.99591837 0.99047619 0.98911565 0.99319728\n",
            " 0.99319728 0.99863946 0.99183673 0.99047619]\n",
            "0.9926552795031057\n"
          ]
        }
      ],
      "source": [
        "result = cross_val_score(voting_clf, X_train, y_train_One, cv=10,scoring=\"accuracy\", n_jobs=-1)\n",
        "print(result)\n",
        "print(result.mean())"
      ]
    },
    {
      "cell_type": "markdown",
      "metadata": {},
      "source": [
        "# CV-10 Result\n",
        "\n",
        "## Mean: 0.9938784753031648"
      ]
    },
    {
      "cell_type": "code",
      "execution_count": 22,
      "metadata": {},
      "outputs": [
        {
          "data": {
            "text/plain": [
              "(7352, 560)"
            ]
          },
          "execution_count": 22,
          "metadata": {},
          "output_type": "execute_result"
        }
      ],
      "source": [
        "X_train.shape"
      ]
    },
    {
      "cell_type": "code",
      "execution_count": null,
      "metadata": {},
      "outputs": [],
      "source": []
    }
  ],
  "metadata": {
    "colab": {
      "provenance": []
    },
    "kernelspec": {
      "display_name": "Python 3",
      "name": "python3"
    },
    "language_info": {
      "codemirror_mode": {
        "name": "ipython",
        "version": 3
      },
      "file_extension": ".py",
      "mimetype": "text/x-python",
      "name": "python",
      "nbconvert_exporter": "python",
      "pygments_lexer": "ipython3",
      "version": "3.11.7"
    }
  },
  "nbformat": 4,
  "nbformat_minor": 0
}
